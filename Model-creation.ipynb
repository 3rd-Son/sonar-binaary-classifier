{
 "cells": [
  {
   "attachments": {},
   "cell_type": "markdown",
   "metadata": {},
   "source": [
    "#### *Import the Libraries*"
   ]
  },
  {
   "cell_type": "code",
   "execution_count": 1,
   "metadata": {},
   "outputs": [
    {
     "name": "stderr",
     "output_type": "stream",
     "text": [
      "2023-02-27 14:32:10.512114: I tensorflow/core/platform/cpu_feature_guard.cc:193] This TensorFlow binary is optimized with oneAPI Deep Neural Network Library (oneDNN) to use the following CPU instructions in performance-critical operations:  SSE4.1 SSE4.2 AVX AVX2 FMA\n",
      "To enable them in other operations, rebuild TensorFlow with the appropriate compiler flags.\n"
     ]
    }
   ],
   "source": [
    "import numpy as np\n",
    "import tensorflow as tf"
   ]
  },
  {
   "attachments": {},
   "cell_type": "markdown",
   "metadata": {},
   "source": [
    "#### *Data*"
   ]
  },
  {
   "cell_type": "code",
   "execution_count": 2,
   "metadata": {},
   "outputs": [],
   "source": [
    "# let's create a temporary variable npz, where we will store each of the three sonar datasets\n",
    "npz = np.load('sonar_data_train.npz')\n",
    "\n",
    "\n",
    "# Ensure that they are all float\n",
    "train_inputs = npz['inputs'].astype(float)\n",
    "# targets must be int because of sparse_categorical_crossentropy \n",
    "train_targets = npz['targets'].astype(int)\n",
    "\n",
    "# Load the validation data in the temporary variable\n",
    "npz = np.load('sonar_data_validation.npz')\n",
    "# we can load the inputs and the targets in the same line\n",
    "validation_inputs, validation_targets = npz['inputs'].astype(float), npz['targets'].astype(int)\n",
    "\n",
    "#Load the test data in the temporary variable\n",
    "npz = np.load('sonar_data_test.npz')\n",
    "\n",
    "#Create 2 variables that will contain the test inputs and the test targets\n",
    "test_inputs, test_targets = npz['inputs'].astype(float), npz['targets'].astype(int)"
   ]
  },
  {
   "cell_type": "code",
   "execution_count": 3,
   "metadata": {},
   "outputs": [
    {
     "name": "stderr",
     "output_type": "stream",
     "text": [
      "2023-02-27 14:32:16.026578: I tensorflow/core/platform/cpu_feature_guard.cc:193] This TensorFlow binary is optimized with oneAPI Deep Neural Network Library (oneDNN) to use the following CPU instructions in performance-critical operations:  SSE4.1 SSE4.2 AVX AVX2 FMA\n",
      "To enable them in other operations, rebuild TensorFlow with the appropriate compiler flags.\n"
     ]
    },
    {
     "name": "stdout",
     "output_type": "stream",
     "text": [
      "Epoch 1/100\n",
      "17/17 - 1s - loss: 0.6863 - accuracy: 0.5120 - val_loss: 0.6492 - val_accuracy: 0.6000 - 1s/epoch - 64ms/step\n",
      "Epoch 2/100\n",
      "17/17 - 0s - loss: 0.6377 - accuracy: 0.6386 - val_loss: 0.6686 - val_accuracy: 0.5500 - 98ms/epoch - 6ms/step\n",
      "Epoch 3/100\n",
      "17/17 - 0s - loss: 0.5947 - accuracy: 0.7169 - val_loss: 0.5980 - val_accuracy: 0.7000 - 77ms/epoch - 5ms/step\n",
      "Epoch 4/100\n",
      "17/17 - 0s - loss: 0.5682 - accuracy: 0.7108 - val_loss: 0.5648 - val_accuracy: 0.6500 - 81ms/epoch - 5ms/step\n",
      "Epoch 5/100\n",
      "17/17 - 0s - loss: 0.5201 - accuracy: 0.7952 - val_loss: 0.5354 - val_accuracy: 0.9000 - 75ms/epoch - 4ms/step\n",
      "Epoch 6/100\n",
      "17/17 - 0s - loss: 0.4953 - accuracy: 0.7470 - val_loss: 0.5122 - val_accuracy: 0.9000 - 77ms/epoch - 5ms/step\n",
      "Epoch 7/100\n",
      "17/17 - 0s - loss: 0.4614 - accuracy: 0.7711 - val_loss: 0.6431 - val_accuracy: 0.6000 - 74ms/epoch - 4ms/step\n",
      "Epoch 8/100\n",
      "17/17 - 0s - loss: 0.4401 - accuracy: 0.7831 - val_loss: 0.4919 - val_accuracy: 0.8500 - 208ms/epoch - 12ms/step\n",
      "Epoch 9/100\n",
      "17/17 - 0s - loss: 0.4178 - accuracy: 0.7952 - val_loss: 0.5495 - val_accuracy: 0.7000 - 77ms/epoch - 5ms/step\n",
      "Epoch 10/100\n",
      "17/17 - 0s - loss: 0.4239 - accuracy: 0.7831 - val_loss: 0.4898 - val_accuracy: 0.8000 - 92ms/epoch - 5ms/step\n",
      "Epoch 11/100\n",
      "17/17 - 0s - loss: 0.3852 - accuracy: 0.8193 - val_loss: 0.4534 - val_accuracy: 0.8500 - 81ms/epoch - 5ms/step\n",
      "Epoch 12/100\n",
      "17/17 - 0s - loss: 0.3877 - accuracy: 0.8313 - val_loss: 0.4088 - val_accuracy: 0.8000 - 80ms/epoch - 5ms/step\n",
      "Epoch 13/100\n",
      "17/17 - 0s - loss: 0.3632 - accuracy: 0.8253 - val_loss: 0.5526 - val_accuracy: 0.6500 - 78ms/epoch - 5ms/step\n",
      "Epoch 14/100\n",
      "17/17 - 0s - loss: 0.3233 - accuracy: 0.8855 - val_loss: 0.4059 - val_accuracy: 0.8000 - 84ms/epoch - 5ms/step\n",
      "Epoch 15/100\n",
      "17/17 - 0s - loss: 0.3859 - accuracy: 0.7952 - val_loss: 0.4233 - val_accuracy: 0.8500 - 82ms/epoch - 5ms/step\n",
      "Epoch 16/100\n",
      "17/17 - 0s - loss: 0.3328 - accuracy: 0.8373 - val_loss: 0.6198 - val_accuracy: 0.6000 - 74ms/epoch - 4ms/step\n",
      "Epoch 17/100\n",
      "17/17 - 0s - loss: 0.3147 - accuracy: 0.8614 - val_loss: 0.4518 - val_accuracy: 0.8000 - 76ms/epoch - 4ms/step\n",
      "Epoch 18/100\n",
      "17/17 - 0s - loss: 0.2897 - accuracy: 0.8855 - val_loss: 0.4199 - val_accuracy: 0.8500 - 73ms/epoch - 4ms/step\n",
      "Epoch 19/100\n",
      "17/17 - 0s - loss: 0.2758 - accuracy: 0.8976 - val_loss: 0.4670 - val_accuracy: 0.8000 - 80ms/epoch - 5ms/step\n",
      "Epoch 20/100\n",
      "17/17 - 0s - loss: 0.2538 - accuracy: 0.9096 - val_loss: 0.4006 - val_accuracy: 0.8000 - 77ms/epoch - 5ms/step\n",
      "Epoch 21/100\n",
      "17/17 - 0s - loss: 0.2557 - accuracy: 0.8795 - val_loss: 0.4155 - val_accuracy: 0.8500 - 75ms/epoch - 4ms/step\n",
      "Epoch 22/100\n",
      "17/17 - 0s - loss: 0.2416 - accuracy: 0.9036 - val_loss: 0.4323 - val_accuracy: 0.8500 - 75ms/epoch - 4ms/step\n",
      "Epoch 23/100\n",
      "17/17 - 0s - loss: 0.2288 - accuracy: 0.9157 - val_loss: 0.4301 - val_accuracy: 0.9000 - 80ms/epoch - 5ms/step\n",
      "Epoch 24/100\n",
      "17/17 - 0s - loss: 0.2229 - accuracy: 0.9217 - val_loss: 0.3928 - val_accuracy: 0.8000 - 97ms/epoch - 6ms/step\n",
      "Epoch 25/100\n",
      "17/17 - 0s - loss: 0.1810 - accuracy: 0.9458 - val_loss: 0.6105 - val_accuracy: 0.8000 - 91ms/epoch - 5ms/step\n",
      "Epoch 26/100\n",
      "17/17 - 0s - loss: 0.1845 - accuracy: 0.9458 - val_loss: 0.4336 - val_accuracy: 0.9000 - 130ms/epoch - 8ms/step\n",
      "Epoch 27/100\n",
      "17/17 - 0s - loss: 0.1738 - accuracy: 0.9458 - val_loss: 0.4486 - val_accuracy: 0.9000 - 78ms/epoch - 5ms/step\n",
      "Epoch 28/100\n",
      "17/17 - 0s - loss: 0.1535 - accuracy: 0.9518 - val_loss: 0.4751 - val_accuracy: 0.9000 - 230ms/epoch - 14ms/step\n",
      "Epoch 29/100\n",
      "17/17 - 0s - loss: 0.1556 - accuracy: 0.9458 - val_loss: 0.4195 - val_accuracy: 0.8000 - 95ms/epoch - 6ms/step\n",
      "Epoch 30/100\n",
      "17/17 - 0s - loss: 0.1298 - accuracy: 0.9699 - val_loss: 0.5136 - val_accuracy: 0.9000 - 74ms/epoch - 4ms/step\n",
      "Epoch 31/100\n",
      "17/17 - 0s - loss: 0.1157 - accuracy: 0.9940 - val_loss: 0.4353 - val_accuracy: 0.9000 - 84ms/epoch - 5ms/step\n",
      "Epoch 32/100\n",
      "17/17 - 0s - loss: 0.1124 - accuracy: 0.9880 - val_loss: 0.4581 - val_accuracy: 0.9000 - 76ms/epoch - 4ms/step\n",
      "Epoch 33/100\n",
      "17/17 - 0s - loss: 0.1002 - accuracy: 0.9819 - val_loss: 0.4798 - val_accuracy: 0.9000 - 75ms/epoch - 4ms/step\n",
      "Epoch 34/100\n",
      "17/17 - 0s - loss: 0.1056 - accuracy: 0.9699 - val_loss: 0.5595 - val_accuracy: 0.8500 - 77ms/epoch - 5ms/step\n",
      "Epoch 35/100\n",
      "17/17 - 0s - loss: 0.1006 - accuracy: 0.9819 - val_loss: 0.5479 - val_accuracy: 0.9000 - 80ms/epoch - 5ms/step\n",
      "Epoch 36/100\n",
      "17/17 - 0s - loss: 0.0871 - accuracy: 0.9819 - val_loss: 0.7764 - val_accuracy: 0.7500 - 76ms/epoch - 4ms/step\n",
      "Epoch 37/100\n",
      "17/17 - 0s - loss: 0.0965 - accuracy: 0.9880 - val_loss: 0.5240 - val_accuracy: 0.9000 - 270ms/epoch - 16ms/step\n",
      "Epoch 38/100\n",
      "17/17 - 0s - loss: 0.0697 - accuracy: 1.0000 - val_loss: 0.5266 - val_accuracy: 0.8500 - 98ms/epoch - 6ms/step\n",
      "Epoch 39/100\n",
      "17/17 - 0s - loss: 0.0629 - accuracy: 0.9880 - val_loss: 0.5166 - val_accuracy: 0.8500 - 77ms/epoch - 5ms/step\n",
      "Epoch 40/100\n",
      "17/17 - 0s - loss: 0.0553 - accuracy: 0.9940 - val_loss: 0.6179 - val_accuracy: 0.9000 - 77ms/epoch - 5ms/step\n",
      "Epoch 41/100\n",
      "17/17 - 0s - loss: 0.0477 - accuracy: 1.0000 - val_loss: 0.5270 - val_accuracy: 0.8500 - 81ms/epoch - 5ms/step\n",
      "Epoch 42/100\n",
      "17/17 - 0s - loss: 0.0443 - accuracy: 1.0000 - val_loss: 0.6218 - val_accuracy: 0.9000 - 198ms/epoch - 12ms/step\n",
      "Epoch 43/100\n",
      "17/17 - 0s - loss: 0.0507 - accuracy: 0.9880 - val_loss: 0.9033 - val_accuracy: 0.7500 - 73ms/epoch - 4ms/step\n",
      "Epoch 44/100\n",
      "17/17 - 0s - loss: 0.0668 - accuracy: 0.9880 - val_loss: 0.7082 - val_accuracy: 0.9000 - 73ms/epoch - 4ms/step\n",
      "Epoch 45/100\n",
      "17/17 - 0s - loss: 0.0501 - accuracy: 0.9940 - val_loss: 0.6219 - val_accuracy: 0.8500 - 75ms/epoch - 4ms/step\n",
      "Epoch 46/100\n",
      "17/17 - 0s - loss: 0.0380 - accuracy: 1.0000 - val_loss: 0.6080 - val_accuracy: 0.8500 - 76ms/epoch - 4ms/step\n",
      "Epoch 47/100\n",
      "17/17 - 0s - loss: 0.0299 - accuracy: 1.0000 - val_loss: 0.5898 - val_accuracy: 0.8000 - 77ms/epoch - 5ms/step\n",
      "Epoch 48/100\n",
      "17/17 - 0s - loss: 0.0360 - accuracy: 1.0000 - val_loss: 0.5992 - val_accuracy: 0.8000 - 79ms/epoch - 5ms/step\n",
      "Epoch 49/100\n",
      "17/17 - 0s - loss: 0.0398 - accuracy: 0.9940 - val_loss: 0.6068 - val_accuracy: 0.8000 - 79ms/epoch - 5ms/step\n",
      "Epoch 50/100\n",
      "17/17 - 0s - loss: 0.0433 - accuracy: 1.0000 - val_loss: 0.6157 - val_accuracy: 0.8500 - 77ms/epoch - 5ms/step\n",
      "Epoch 51/100\n",
      "17/17 - 0s - loss: 0.0266 - accuracy: 1.0000 - val_loss: 0.6507 - val_accuracy: 0.9000 - 76ms/epoch - 4ms/step\n",
      "Epoch 52/100\n",
      "17/17 - 0s - loss: 0.0241 - accuracy: 1.0000 - val_loss: 0.7523 - val_accuracy: 0.9000 - 71ms/epoch - 4ms/step\n",
      "Epoch 53/100\n",
      "17/17 - 0s - loss: 0.0250 - accuracy: 1.0000 - val_loss: 0.6844 - val_accuracy: 0.8500 - 79ms/epoch - 5ms/step\n",
      "Epoch 54/100\n",
      "17/17 - 0s - loss: 0.0182 - accuracy: 1.0000 - val_loss: 0.6646 - val_accuracy: 0.8500 - 79ms/epoch - 5ms/step\n",
      "Epoch 55/100\n",
      "17/17 - 0s - loss: 0.0172 - accuracy: 1.0000 - val_loss: 0.6722 - val_accuracy: 0.8500 - 78ms/epoch - 5ms/step\n",
      "Epoch 56/100\n",
      "17/17 - 0s - loss: 0.0143 - accuracy: 1.0000 - val_loss: 0.7210 - val_accuracy: 0.9000 - 123ms/epoch - 7ms/step\n",
      "Epoch 57/100\n",
      "17/17 - 0s - loss: 0.0171 - accuracy: 1.0000 - val_loss: 0.7422 - val_accuracy: 0.9000 - 82ms/epoch - 5ms/step\n",
      "Epoch 58/100\n",
      "17/17 - 0s - loss: 0.0147 - accuracy: 1.0000 - val_loss: 0.6858 - val_accuracy: 0.8500 - 77ms/epoch - 5ms/step\n",
      "Epoch 59/100\n",
      "17/17 - 0s - loss: 0.0119 - accuracy: 1.0000 - val_loss: 0.7191 - val_accuracy: 0.9000 - 75ms/epoch - 4ms/step\n",
      "Epoch 60/100\n",
      "17/17 - 0s - loss: 0.0112 - accuracy: 1.0000 - val_loss: 0.7216 - val_accuracy: 0.9000 - 77ms/epoch - 5ms/step\n",
      "Epoch 61/100\n",
      "17/17 - 0s - loss: 0.0115 - accuracy: 1.0000 - val_loss: 0.7054 - val_accuracy: 0.8500 - 81ms/epoch - 5ms/step\n",
      "Epoch 62/100\n",
      "17/17 - 0s - loss: 0.0101 - accuracy: 1.0000 - val_loss: 0.7230 - val_accuracy: 0.8500 - 77ms/epoch - 5ms/step\n",
      "Epoch 63/100\n",
      "17/17 - 0s - loss: 0.0102 - accuracy: 1.0000 - val_loss: 0.7752 - val_accuracy: 0.9000 - 80ms/epoch - 5ms/step\n",
      "Epoch 64/100\n",
      "17/17 - 0s - loss: 0.0088 - accuracy: 1.0000 - val_loss: 0.7331 - val_accuracy: 0.8500 - 77ms/epoch - 5ms/step\n",
      "Epoch 65/100\n",
      "17/17 - 0s - loss: 0.0082 - accuracy: 1.0000 - val_loss: 0.7461 - val_accuracy: 0.8500 - 228ms/epoch - 13ms/step\n",
      "Epoch 66/100\n",
      "17/17 - 0s - loss: 0.0084 - accuracy: 1.0000 - val_loss: 0.7638 - val_accuracy: 0.9000 - 101ms/epoch - 6ms/step\n",
      "Epoch 67/100\n",
      "17/17 - 0s - loss: 0.0075 - accuracy: 1.0000 - val_loss: 0.7634 - val_accuracy: 0.8500 - 102ms/epoch - 6ms/step\n",
      "Epoch 68/100\n",
      "17/17 - 0s - loss: 0.0073 - accuracy: 1.0000 - val_loss: 0.7659 - val_accuracy: 0.9000 - 166ms/epoch - 10ms/step\n",
      "Epoch 69/100\n",
      "17/17 - 0s - loss: 0.0067 - accuracy: 1.0000 - val_loss: 0.7804 - val_accuracy: 0.8500 - 238ms/epoch - 14ms/step\n",
      "Epoch 70/100\n",
      "17/17 - 0s - loss: 0.0071 - accuracy: 1.0000 - val_loss: 0.7745 - val_accuracy: 0.8500 - 154ms/epoch - 9ms/step\n",
      "Epoch 71/100\n",
      "17/17 - 0s - loss: 0.0064 - accuracy: 1.0000 - val_loss: 0.7784 - val_accuracy: 0.8500 - 156ms/epoch - 9ms/step\n",
      "Epoch 72/100\n",
      "17/17 - 0s - loss: 0.0059 - accuracy: 1.0000 - val_loss: 0.7918 - val_accuracy: 0.8500 - 181ms/epoch - 11ms/step\n",
      "Epoch 73/100\n",
      "17/17 - 0s - loss: 0.0058 - accuracy: 1.0000 - val_loss: 0.7812 - val_accuracy: 0.8500 - 94ms/epoch - 6ms/step\n",
      "Epoch 74/100\n",
      "17/17 - 0s - loss: 0.0054 - accuracy: 1.0000 - val_loss: 0.7926 - val_accuracy: 0.8500 - 96ms/epoch - 6ms/step\n",
      "Epoch 75/100\n",
      "17/17 - 0s - loss: 0.0052 - accuracy: 1.0000 - val_loss: 0.8027 - val_accuracy: 0.8500 - 106ms/epoch - 6ms/step\n",
      "Epoch 76/100\n",
      "17/17 - 0s - loss: 0.0052 - accuracy: 1.0000 - val_loss: 0.8079 - val_accuracy: 0.8500 - 72ms/epoch - 4ms/step\n",
      "Epoch 77/100\n",
      "17/17 - 0s - loss: 0.0048 - accuracy: 1.0000 - val_loss: 0.8212 - val_accuracy: 0.8500 - 71ms/epoch - 4ms/step\n",
      "Epoch 78/100\n",
      "17/17 - 0s - loss: 0.0046 - accuracy: 1.0000 - val_loss: 0.8025 - val_accuracy: 0.8500 - 181ms/epoch - 11ms/step\n",
      "Epoch 79/100\n",
      "17/17 - 0s - loss: 0.0044 - accuracy: 1.0000 - val_loss: 0.8127 - val_accuracy: 0.8500 - 73ms/epoch - 4ms/step\n",
      "Epoch 80/100\n",
      "17/17 - 0s - loss: 0.0043 - accuracy: 1.0000 - val_loss: 0.8564 - val_accuracy: 0.9000 - 132ms/epoch - 8ms/step\n",
      "Epoch 81/100\n",
      "17/17 - 0s - loss: 0.0045 - accuracy: 1.0000 - val_loss: 0.8041 - val_accuracy: 0.8500 - 165ms/epoch - 10ms/step\n",
      "Epoch 82/100\n",
      "17/17 - 0s - loss: 0.0046 - accuracy: 1.0000 - val_loss: 0.8113 - val_accuracy: 0.8000 - 87ms/epoch - 5ms/step\n",
      "Epoch 83/100\n",
      "17/17 - 0s - loss: 0.0040 - accuracy: 1.0000 - val_loss: 0.8532 - val_accuracy: 0.9000 - 85ms/epoch - 5ms/step\n",
      "Epoch 84/100\n",
      "17/17 - 0s - loss: 0.0037 - accuracy: 1.0000 - val_loss: 0.8281 - val_accuracy: 0.8500 - 84ms/epoch - 5ms/step\n",
      "Epoch 85/100\n",
      "17/17 - 0s - loss: 0.0034 - accuracy: 1.0000 - val_loss: 0.8473 - val_accuracy: 0.8500 - 85ms/epoch - 5ms/step\n",
      "Epoch 86/100\n",
      "17/17 - 0s - loss: 0.0033 - accuracy: 1.0000 - val_loss: 0.8552 - val_accuracy: 0.8500 - 122ms/epoch - 7ms/step\n",
      "Epoch 87/100\n",
      "17/17 - 0s - loss: 0.0034 - accuracy: 1.0000 - val_loss: 0.8543 - val_accuracy: 0.8500 - 98ms/epoch - 6ms/step\n",
      "Epoch 88/100\n",
      "17/17 - 0s - loss: 0.0031 - accuracy: 1.0000 - val_loss: 0.8308 - val_accuracy: 0.8000 - 158ms/epoch - 9ms/step\n",
      "Epoch 89/100\n",
      "17/17 - 0s - loss: 0.0037 - accuracy: 1.0000 - val_loss: 0.8788 - val_accuracy: 0.8500 - 88ms/epoch - 5ms/step\n",
      "Epoch 90/100\n",
      "17/17 - 0s - loss: 0.0029 - accuracy: 1.0000 - val_loss: 0.8641 - val_accuracy: 0.8500 - 91ms/epoch - 5ms/step\n",
      "Epoch 91/100\n",
      "17/17 - 0s - loss: 0.0027 - accuracy: 1.0000 - val_loss: 0.8710 - val_accuracy: 0.8500 - 104ms/epoch - 6ms/step\n",
      "Epoch 92/100\n",
      "17/17 - 0s - loss: 0.0027 - accuracy: 1.0000 - val_loss: 0.8748 - val_accuracy: 0.8500 - 88ms/epoch - 5ms/step\n",
      "Epoch 93/100\n",
      "17/17 - 0s - loss: 0.0027 - accuracy: 1.0000 - val_loss: 0.8654 - val_accuracy: 0.8500 - 88ms/epoch - 5ms/step\n",
      "Epoch 94/100\n",
      "17/17 - 0s - loss: 0.0027 - accuracy: 1.0000 - val_loss: 0.8956 - val_accuracy: 0.8500 - 86ms/epoch - 5ms/step\n",
      "Epoch 95/100\n",
      "17/17 - 0s - loss: 0.0026 - accuracy: 1.0000 - val_loss: 0.8718 - val_accuracy: 0.8000 - 82ms/epoch - 5ms/step\n",
      "Epoch 96/100\n",
      "17/17 - 0s - loss: 0.0027 - accuracy: 1.0000 - val_loss: 0.9185 - val_accuracy: 0.9000 - 87ms/epoch - 5ms/step\n",
      "Epoch 97/100\n",
      "17/17 - 0s - loss: 0.0026 - accuracy: 1.0000 - val_loss: 0.8648 - val_accuracy: 0.8000 - 84ms/epoch - 5ms/step\n",
      "Epoch 98/100\n",
      "17/17 - 0s - loss: 0.0027 - accuracy: 1.0000 - val_loss: 0.9035 - val_accuracy: 0.8500 - 127ms/epoch - 7ms/step\n",
      "Epoch 99/100\n",
      "17/17 - 0s - loss: 0.0023 - accuracy: 1.0000 - val_loss: 0.9024 - val_accuracy: 0.8500 - 89ms/epoch - 5ms/step\n",
      "Epoch 100/100\n",
      "17/17 - 0s - loss: 0.0022 - accuracy: 1.0000 - val_loss: 0.8940 - val_accuracy: 0.8500 - 84ms/epoch - 5ms/step\n"
     ]
    },
    {
     "data": {
      "text/plain": [
       "<keras.callbacks.History at 0x7f93d1c97d30>"
      ]
     },
     "execution_count": 3,
     "metadata": {},
     "output_type": "execute_result"
    }
   ],
   "source": [
    "# Set the input and output sizes\n",
    "input_size = 60\n",
    "output_size = 2\n",
    "# Use same hidden layer size for both hidden layers\n",
    "hidden_layer_size = 100\n",
    "    \n",
    "# define how the model will look like\n",
    "model = tf.keras.Sequential([\n",
    "    tf.keras.layers.Dense(hidden_layer_size, activation='relu'), # 1st hidden layer\n",
    "    tf.keras.layers.Dense(hidden_layer_size, activation='relu'), # 2nd hidden layer\n",
    "    tf.keras.layers.Dense(output_size, activation='sigmoid') # output layer\n",
    "])\n",
    "\n",
    "\n",
    "### Choose the optimizer and the loss function\n",
    "\n",
    "model.compile(optimizer='adam', loss='sparse_categorical_crossentropy', metrics=['accuracy'])\n",
    "\n",
    "### Training\n",
    "\n",
    "\n",
    "# set the batch size\n",
    "batch_size = 10\n",
    "\n",
    "# set a maximum number of training epochs\n",
    "max_epochs = 100\n",
    "\n",
    "# set an early stopping mechanism\n",
    "# let's set patience=2, to be a bit tolerant against random validation loss increases\n",
    "#early_stopping = tf.keras.callbacks.EarlyStopping(patience=2)\n",
    "\n",
    "# fit the model\n",
    "\n",
    "model.fit(train_inputs, # train inputs\n",
    "          train_targets, # train targets\n",
    "          batch_size=batch_size, # batch size\n",
    "          epochs=max_epochs, # epochs that we will train for (assuming early stopping doesn't kick in)\n",
    "          # callbacks are functions called by a task when a task is completed\n",
    "          # task here is to check if val_loss is increasing\n",
    "          #callbacks=[early_stopping], # early stopping\n",
    "          validation_data=(validation_inputs, validation_targets), # validation data\n",
    "          verbose = 2 \n",
    "          )  "
   ]
  },
  {
   "attachments": {},
   "cell_type": "markdown",
   "metadata": {},
   "source": [
    "#### *Test the Model*"
   ]
  },
  {
   "cell_type": "code",
   "execution_count": 6,
   "metadata": {},
   "outputs": [
    {
     "name": "stdout",
     "output_type": "stream",
     "text": [
      "1/1 [==============================] - 0s 45ms/step - loss: 0.3944 - accuracy: 0.8636\n"
     ]
    }
   ],
   "source": [
    "test_loss, test_accuracy = model.evaluate(test_inputs, test_targets)"
   ]
  },
  {
   "cell_type": "code",
   "execution_count": 7,
   "metadata": {},
   "outputs": [
    {
     "name": "stdout",
     "output_type": "stream",
     "text": [
      "\n",
      "Test loss: 0.39. Test accuracy: 86.36%\n"
     ]
    }
   ],
   "source": [
    "print('\\nTest loss: {0:.2f}. Test accuracy: {1:.2f}%'.format(test_loss, test_accuracy*100.))"
   ]
  },
  {
   "cell_type": "code",
   "execution_count": null,
   "metadata": {},
   "outputs": [],
   "source": []
  }
 ],
 "metadata": {
  "kernelspec": {
   "display_name": "myenv",
   "language": "python",
   "name": "python3"
  },
  "language_info": {
   "codemirror_mode": {
    "name": "ipython",
    "version": 3
   },
   "file_extension": ".py",
   "mimetype": "text/x-python",
   "name": "python",
   "nbconvert_exporter": "python",
   "pygments_lexer": "ipython3",
   "version": "3.10.9"
  },
  "orig_nbformat": 4,
  "vscode": {
   "interpreter": {
    "hash": "14c57b4e40183fa36517414be839e63b7905e39166014e9a4d21c74064f6af6a"
   }
  }
 },
 "nbformat": 4,
 "nbformat_minor": 2
}
