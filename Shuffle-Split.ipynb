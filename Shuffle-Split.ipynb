{
 "cells": [
  {
   "attachments": {},
   "cell_type": "markdown",
   "metadata": {},
   "source": [
    "#### *Import the relevant Libraries*"
   ]
  },
  {
   "cell_type": "code",
   "execution_count": 1,
   "metadata": {},
   "outputs": [],
   "source": [
    "import numpy as np"
   ]
  },
  {
   "cell_type": "code",
   "execution_count": 2,
   "metadata": {},
   "outputs": [
    {
     "data": {
      "text/plain": [
       "array([[0.02  , 0.0371, 0.0428, ..., 0.009 , 0.0032, 0.    ],\n",
       "       [0.0453, 0.0523, 0.0843, ..., 0.0052, 0.0044, 0.    ],\n",
       "       [0.0262, 0.0582, 0.1099, ..., 0.0095, 0.0078, 0.    ],\n",
       "       ...,\n",
       "       [0.0522, 0.0437, 0.018 , ..., 0.0077, 0.0031, 1.    ],\n",
       "       [0.0303, 0.0353, 0.049 , ..., 0.0036, 0.0048, 1.    ],\n",
       "       [0.026 , 0.0363, 0.0136, ..., 0.0061, 0.0115, 1.    ]])"
      ]
     },
     "execution_count": 2,
     "metadata": {},
     "output_type": "execute_result"
    }
   ],
   "source": [
    "data = np.loadtxt('sonar-processed.csv', delimiter=',')\n",
    "data"
   ]
  },
  {
   "attachments": {},
   "cell_type": "markdown",
   "metadata": {},
   "source": [
    "#### *Seperate the target and input columns*"
   ]
  },
  {
   "cell_type": "code",
   "execution_count": 3,
   "metadata": {},
   "outputs": [],
   "source": [
    "input_column = data[:,0:-1]\n",
    "\n",
    "target_column = data[:,-1]"
   ]
  },
  {
   "cell_type": "code",
   "execution_count": 4,
   "metadata": {},
   "outputs": [
    {
     "data": {
      "text/plain": [
       "(array([[0.02  , 0.0371, 0.0428, ..., 0.0084, 0.009 , 0.0032],\n",
       "        [0.0453, 0.0523, 0.0843, ..., 0.0049, 0.0052, 0.0044],\n",
       "        [0.0262, 0.0582, 0.1099, ..., 0.0164, 0.0095, 0.0078],\n",
       "        ...,\n",
       "        [0.0522, 0.0437, 0.018 , ..., 0.0138, 0.0077, 0.0031],\n",
       "        [0.0303, 0.0353, 0.049 , ..., 0.0079, 0.0036, 0.0048],\n",
       "        [0.026 , 0.0363, 0.0136, ..., 0.0036, 0.0061, 0.0115]]),\n",
       " array([0., 0., 0., 0., 0., 0., 0., 0., 0., 0., 0., 0., 0., 0., 0., 0., 0.,\n",
       "        0., 0., 0., 0., 0., 0., 0., 0., 0., 0., 0., 0., 0., 0., 0., 0., 0.,\n",
       "        0., 0., 0., 0., 0., 0., 0., 0., 0., 0., 0., 0., 0., 0., 0., 0., 0.,\n",
       "        0., 0., 0., 0., 0., 0., 0., 0., 0., 0., 0., 0., 0., 0., 0., 0., 0.,\n",
       "        0., 0., 0., 0., 0., 0., 0., 0., 0., 0., 0., 0., 0., 0., 0., 0., 0.,\n",
       "        0., 0., 0., 0., 0., 0., 0., 0., 0., 0., 0., 0., 1., 1., 1., 1., 1.,\n",
       "        1., 1., 1., 1., 1., 1., 1., 1., 1., 1., 1., 1., 1., 1., 1., 1., 1.,\n",
       "        1., 1., 1., 1., 1., 1., 1., 1., 1., 1., 1., 1., 1., 1., 1., 1., 1.,\n",
       "        1., 1., 1., 1., 1., 1., 1., 1., 1., 1., 1., 1., 1., 1., 1., 1., 1.,\n",
       "        1., 1., 1., 1., 1., 1., 1., 1., 1., 1., 1., 1., 1., 1., 1., 1., 1.,\n",
       "        1., 1., 1., 1., 1., 1., 1., 1., 1., 1., 1., 1., 1., 1., 1., 1., 1.,\n",
       "        1., 1., 1., 1., 1., 1., 1., 1., 1., 1., 1., 1., 1., 1., 1., 1., 1.,\n",
       "        1., 1., 1., 1.]))"
      ]
     },
     "execution_count": 4,
     "metadata": {},
     "output_type": "execute_result"
    }
   ],
   "source": [
    "input_column, target_column"
   ]
  },
  {
   "cell_type": "markdown",
   "metadata": {},
   "source": [
    "#### *Shuffle the data*"
   ]
  },
  {
   "cell_type": "code",
   "execution_count": 5,
   "metadata": {},
   "outputs": [],
   "source": [
    "# Create a shuffle index\n",
    "shuffled_indices = np.arange(input_column.shape[0])\n",
    "np.random.shuffle(shuffled_indices)\n",
    "\n",
    "\n",
    "shuffle_input_column = input_column[shuffled_indices]\n",
    "shuffle_target_column =target_column[shuffled_indices]"
   ]
  },
  {
   "cell_type": "markdown",
   "metadata": {},
   "source": [
    "#### *Split the dataset into train, validation and test*\n"
   ]
  },
  {
   "cell_type": "code",
   "execution_count": 6,
   "metadata": {},
   "outputs": [
    {
     "name": "stdout",
     "output_type": "stream",
     "text": [
      "88.0 166 0.5301204819277109\n",
      "12.0 20 0.6\n",
      "11.0 22 0.5\n"
     ]
    }
   ],
   "source": [
    "#Count the total number of samples\n",
    "samples_count = shuffle_input_column.shape[0]\n",
    "\n",
    "# 80% as train data\n",
    "train_samples_count = int(0.8 * samples_count)\n",
    "\n",
    "#10% as test data\n",
    "validation_samples_count = int(0.1 * samples_count)\n",
    "\n",
    "#10% as validation data\n",
    "test_samples_count = samples_count - train_samples_count - validation_samples_count\n",
    "\n",
    "\n",
    "train_inputs = shuffle_input_column[:train_samples_count]\n",
    "train_targets = shuffle_target_column[:train_samples_count]\n",
    "\n",
    "\n",
    "validation_inputs = shuffle_input_column[train_samples_count:train_samples_count+validation_samples_count]\n",
    "validation_targets = shuffle_target_column[train_samples_count:train_samples_count+validation_samples_count]\n",
    "\n",
    "\n",
    "test_inputs = shuffle_input_column[train_samples_count+validation_samples_count:]\n",
    "test_targets = shuffle_target_column[train_samples_count+validation_samples_count:]\n",
    "\n",
    "\n",
    "\n",
    "# Print the number of targets that are 1s, the total number of samples, and the proportion for training, validation, and test.\n",
    "print(np.sum(train_targets), train_samples_count, np.sum(train_targets) / train_samples_count)\n",
    "print(np.sum(validation_targets), validation_samples_count, np.sum(validation_targets) / validation_samples_count)\n",
    "print(np.sum(test_targets), test_samples_count, np.sum(test_targets) / test_samples_count)"
   ]
  },
  {
   "cell_type": "markdown",
   "metadata": {},
   "source": [
    "#### *Save the three datasets in *.npz*"
   ]
  },
  {
   "cell_type": "code",
   "execution_count": 7,
   "metadata": {},
   "outputs": [],
   "source": [
    "\n",
    "\n",
    "\n",
    "np.savez('sonar_data_train', inputs=train_inputs, targets=train_targets)\n",
    "np.savez('sonar_data_validation', inputs=validation_inputs, targets=validation_targets)\n",
    "np.savez('sonar_data_test', inputs=test_inputs, targets=test_targets)"
   ]
  },
  {
   "cell_type": "code",
   "execution_count": null,
   "metadata": {},
   "outputs": [],
   "source": []
  }
 ],
 "metadata": {
  "kernelspec": {
   "display_name": "myenv",
   "language": "python",
   "name": "python3"
  },
  "language_info": {
   "codemirror_mode": {
    "name": "ipython",
    "version": 3
   },
   "file_extension": ".py",
   "mimetype": "text/x-python",
   "name": "python",
   "nbconvert_exporter": "python",
   "pygments_lexer": "ipython3",
   "version": "3.10.9"
  },
  "orig_nbformat": 4,
  "vscode": {
   "interpreter": {
    "hash": "14c57b4e40183fa36517414be839e63b7905e39166014e9a4d21c74064f6af6a"
   }
  }
 },
 "nbformat": 4,
 "nbformat_minor": 2
}
